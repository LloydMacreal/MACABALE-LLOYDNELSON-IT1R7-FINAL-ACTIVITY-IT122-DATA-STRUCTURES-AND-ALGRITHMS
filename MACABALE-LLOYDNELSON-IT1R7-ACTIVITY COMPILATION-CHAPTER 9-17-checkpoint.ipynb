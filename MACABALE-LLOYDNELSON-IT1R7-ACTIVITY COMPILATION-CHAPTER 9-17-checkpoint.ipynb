{
 "cells": [
  {
   "cell_type": "code",
   "execution_count": 1,
   "id": "0cc58ee2-6d85-49aa-b35a-0a5b563675f8",
   "metadata": {},
   "outputs": [
    {
     "name": "stdout",
     "output_type": "stream",
     "text": [
      "What I learn about chapter 9 graph introduction is Graphs are one of the prime objects of study in discrete mathematics. In general, a graph is represented as a set of vertices (nodes or points) connected by edges (arcs or line). Graphs are therefore mathematical structures used to model pairwise relations between objects.\n"
     ]
    }
   ],
   "source": [
    "print(\"What I learn about chapter 9 graph introduction is Graphs are one of the prime objects of study in discrete mathematics. In general, a graph is represented as a set of vertices (nodes or points) connected by edges (arcs or line). Graphs are therefore mathematical structures used to model pairwise relations between objects.\")"
   ]
  },
  {
   "cell_type": "code",
   "execution_count": 2,
   "id": "45533dd4-fc0e-4978-8498-46b1bce4ba29",
   "metadata": {},
   "outputs": [
    {
     "name": "stdout",
     "output_type": "stream",
     "text": [
      "What I learn about chapter 10 Bianry Saerch is Binary search is an efficient algorithm for finding an item from a sorted list of items. It works by repeatedly dividing in half the portion of the list that could contain the item, until you've narrowed down the possible locations to just one. We used binary search in the guessing game in the introductory tutorial.\n",
      "\n",
      "\n",
      "\n"
     ]
    }
   ],
   "source": [
    "print(\"What I learn about chapter 10 Bianry Saerch is Binary search is an efficient algorithm for finding an item from a sorted list of items. It works by repeatedly dividing in half the portion of the list that could contain the item, until you've narrowed down the possible locations to just one. We used binary search in the guessing game in the introductory tutorial.\")\n",
    "print(\"\")\n",
    "print(\"\")\n",
    "print(\"\")"
   ]
  },
  {
   "cell_type": "code",
   "execution_count": 6,
   "id": "49985aee-b06e-4fba-897c-e6bc3bf75073",
   "metadata": {},
   "outputs": [
    {
     "name": "stdout",
     "output_type": "stream",
     "text": [
      "What I learn about chapter 11 Bubble Sort is Bubble sort is a simple sorting algorithm. This sorting algorithm is comparison-based algorithm in which each pair of adjacent elements is compared and the elements are swapped if they are not in order and Bubble Sort is the simplest sorting algorithm that works by repeatedly swapping the adjacent elements if they are in wrong order.\n"
     ]
    }
   ],
   "source": [
    "print(\"What I learn about chapter 11 Bubble Sort is Bubble sort is a simple sorting algorithm. This sorting algorithm is comparison-based algorithm in which each pair of adjacent elements is compared and the elements are swapped if they are not in order and Bubble Sort is the simplest sorting algorithm that works by repeatedly swapping the adjacent elements if they are in wrong order.\")"
   ]
  },
  {
   "cell_type": "code",
   "execution_count": 7,
   "id": "f96a4eca-0aae-48db-93b4-b2914026997d",
   "metadata": {},
   "outputs": [
    {
     "name": "stdout",
     "output_type": "stream",
     "text": [
      "What I learn about chapter 12 Quic sort is quick sort is a divide and conquer algorithm\n",
      "\n",
      "it creates two empty arrays to hold element less than the pivot value and elements greater than the pivot value, and then recursively sort the sub arrays. there are two basic operations in the algorithm, swapping items in place and partitioning a section of the array.\n"
     ]
    }
   ],
   "source": [
    "print(\"What I learn about chapter 12 Quic sort is quick sort is a divide and conquer algorithm\")\n",
    "print(\"\")\n",
    "print(\"it creates two empty arrays to hold element less than the pivot value and elements greater than the pivot value, and then recursively sort the sub arrays. there are two basic operations in the algorithm, swapping items in place and partitioning a section of the array.\")"
   ]
  },
  {
   "cell_type": "code",
   "execution_count": 5,
   "id": "06b327ca-1d83-4cb3-8773-958c3e6c3004",
   "metadata": {},
   "outputs": [
    {
     "name": "stdout",
     "output_type": "stream",
     "text": [
      "What I learn about chapter 14 merge sort is Merge sort is one of the most efficient sorting algorithms. It works on the principle of Divide and Conquer. Merge sort repeatedly breaks down a list into several sublists until each sublist consists of a single element and merging those sublists in a manner that results into a sorted list.\n",
      "\n",
      "\n",
      "\n"
     ]
    }
   ],
   "source": [
    "print(\"What I learn about chapter 14 merge sort is Merge sort is one of the most efficient sorting algorithms. It works on the principle of Divide and Conquer. Merge sort repeatedly breaks down a list into several sublists until each sublist consists of a single element and merging those sublists in a manner that results into a sorted list.\")\n",
    "print(\"\")\n",
    "print(\"\")\n",
    "print(\"\")\n"
   ]
  },
  {
   "cell_type": "code",
   "execution_count": 4,
   "id": "c551641f-b391-4ec1-b69c-dd9f25b23376",
   "metadata": {},
   "outputs": [
    {
     "name": "stdout",
     "output_type": "stream",
     "text": [
      "What I learn about chapter 15 shell sort is, Shell sort algorithm is complex in structure and bit more difficult to understand. Shell sort algorithm is significantly slower than the merge sort, quick sort and heap sort algorithms.\n",
      "\n",
      "\n",
      "\n"
     ]
    }
   ],
   "source": [
    "print(\"What I learn about chapter 15 shell sort is, Shell sort algorithm is complex in structure and bit more difficult to understand. Shell sort algorithm is significantly slower than the merge sort, quick sort and heap sort algorithms.\")\n",
    "print(\"\")\n",
    "print(\"\")\n",
    "print(\"\")\n"
   ]
  },
  {
   "cell_type": "code",
   "execution_count": 3,
   "id": "2f91fc5c-dbcb-4027-a4a7-0aa8c63e0d9d",
   "metadata": {},
   "outputs": [
    {
     "name": "stdout",
     "output_type": "stream",
     "text": [
      "What I learn about chapter 16 selection sort in phyton The selection sort algorithm sorts an array by repeatedly finding the minimum element (considering ascending order) from unsorted part and putting it at the beginning. The algorithm maintains two subarrays in a given array. 1) The subarray which is already sorted. 2) Remaining subarray which is unsorted\n",
      "\n",
      "\n",
      "\n"
     ]
    }
   ],
   "source": [
    "print(\"What I learn about chapter 16 selection sort in phyton The selection sort algorithm sorts an array by repeatedly finding the minimum element (considering ascending order) from unsorted part and putting it at the beginning. The algorithm maintains two subarrays in a given array. 1) The subarray which is already sorted. 2) Remaining subarray which is unsorted\")\n",
    "print(\"\")\n",
    "print(\"\")\n",
    "print(\"\")\n"
   ]
  },
  {
   "cell_type": "code",
   "execution_count": 8,
   "id": "7eb35c23-e231-41bf-a10e-9ed218df93bc",
   "metadata": {},
   "outputs": [
    {
     "name": "stdout",
     "output_type": "stream",
     "text": [
      "What Il earn about chapter 17 recursion is, a recursion function is one which calls itself either directly or indirectly it must halt at a definite point to avoid infinite recursion. Recursion in python is a way of coding in which the function calls itself.\n",
      "\n",
      "\n",
      "\n"
     ]
    }
   ],
   "source": [
    "print(\"What Il earn about chapter 17 recursion is, a recursion function is one which calls itself either directly or indirectly it must halt at a definite point to avoid infinite recursion. Recursion in python is a way of coding in which the function calls itself.\")\n",
    "print(\"\")\n",
    "print(\"\")\n",
    "print(\"\")\n"
   ]
  },
  {
   "cell_type": "code",
   "execution_count": null,
   "id": "18f01270-b0b2-4058-89f2-b33f7809488c",
   "metadata": {},
   "outputs": [],
   "source": [
    "print(\"\")\n",
    "print(\"\")\n",
    "print(\"\")\n",
    "print(\"\")\n"
   ]
  }
 ],
 "metadata": {
  "kernelspec": {
   "display_name": "Python 3 (ipykernel)",
   "language": "python",
   "name": "python3"
  },
  "language_info": {
   "codemirror_mode": {
    "name": "ipython",
    "version": 3
   },
   "file_extension": ".py",
   "mimetype": "text/x-python",
   "name": "python",
   "nbconvert_exporter": "python",
   "pygments_lexer": "ipython3",
   "version": "3.10.0"
  }
 },
 "nbformat": 4,
 "nbformat_minor": 5
}
